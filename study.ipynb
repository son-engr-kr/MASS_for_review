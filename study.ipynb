{
 "cells": [
  {
   "cell_type": "code",
   "execution_count": null,
   "metadata": {},
   "outputs": [],
   "source": [
    "import python.main\n",
    "import python.Model"
   ]
  },
  {
   "cell_type": "markdown",
   "metadata": {},
   "source": [
    "# python/model.py"
   ]
  },
  {
   "cell_type": "markdown",
   "metadata": {},
   "source": [
    "They implemented their own PPO."
   ]
  },
  {
   "cell_type": "code",
   "execution_count": null,
   "metadata": {},
   "outputs": [],
   "source": [
    "python.main.PPO"
   ]
  },
  {
   "cell_type": "markdown",
   "metadata": {},
   "source": [
    "importing model from python.Model\n",
    "\n",
    "```python\n",
    "self.model = SimulationNN(self.num_state,self.num_action)\n",
    "self.muscle_model = MuscleNN(self.env.GetNumTotalMuscleRelatedDofs(),self.num_action,self.num_muscles)\n",
    "```"
   ]
  },
  {
   "cell_type": "markdown",
   "metadata": {},
   "source": [
    "# following step by step\n",
    "```python\n",
    "parser = argparse.ArgumentParser()\n",
    "parser.add_argument('-m','--model',help='model path')\n",
    "parser.add_argument('-d','--meta',help='meta file')\n",
    "\n",
    "args =parser.parse_args()\n",
    "if args.meta is None:\n",
    "    print('Provide meta file')\n",
    "    exit()\n",
    "\n",
    "ppo = PPO(args.meta)\n",
    "nn_dir = '../nn'\n",
    "if not os.path.exists(nn_dir):\n",
    "    os.makedirs(nn_dir)\n",
    "if args.model is not None:\n",
    "    ppo.LoadModel(args.model)\n",
    "else:\n",
    "    ppo.SaveModel()\n",
    "print('num states: {}, num actions: {}'.format(ppo.env.GetNumState(),ppo.env.GetNumAction()))\n",
    "for i in range(ppo.max_iteration-5):\n",
    "    ppo.Train()\n",
    "    rewards = ppo.Evaluate()\n",
    "    Plot(rewards,'reward',0,False)\n",
    "\n",
    "```\n",
    "\n",
    "\n",
    "# `ppo.train()`\n",
    "\n",
    "```python\n",
    "def Train(self):\n",
    "    self.GenerateTransitions()\n",
    "    self.OptimizeModel()\n",
    "```\n",
    "\n",
    "## in PPO.GenerateTrainsisions()...\n",
    "\n",
    "```python\n",
    "a_dist,v = self.model(Tensor(states))\n",
    "actions = a_dist.sample().cpu().detach().numpy()\n",
    "# actions = a_dist.loc.cpu().detach().numpy() \n",
    "logprobs = a_dist.log_prob(Tensor(actions)).cpu().detach().numpy().reshape(-1)\n",
    "values = v.cpu().detach().numpy().reshape(-1)\n",
    "self.env.SetActions(actions)\n",
    "```\n",
    "### self.env.SetActions(actions)\n",
    "\n",
    "```python\n",
    "if self.use_muscle:\n",
    "    mt = Tensor(self.env.GetMuscleTorques())\n",
    "    for i in range(self.num_simulation_per_control//2):\n",
    "        dt = Tensor(self.env.GetDesiredTorques())\n",
    "        activations = self.muscle_model(mt,dt).cpu().detach().numpy()\n",
    "        self.env.SetActivationLevels(activations)\n",
    "\n",
    "        self.env.Steps(2)\n",
    "else:\n",
    "    self.env.StepsAtOnce()\n",
    "```\n",
    "### self.env.SetActivationLevels(activations)\n",
    "### Question:\n",
    "- why self.num_simulation_per_control//2?\n",
    "- what is if self.use_muscle: ?\n"
   ]
  },
  {
   "cell_type": "markdown",
   "metadata": {},
   "source": [
    "## self.OptimizeModel()\n",
    "\n",
    "```python\n",
    "def OptimizeModel(self):\n",
    "    self.ComputeTDandGAE()\n",
    "    self.OptimizeSimulationNN()\n",
    "    if self.use_muscle:\n",
    "        self.OptimizeMuscleNN()\n",
    "```\n",
    "### self.ComputeTDandGAE()\n",
    "\n",
    "### self.OptimizeSimulationNN()\n",
    "```python\n",
    "def OptimizeSimulationNN(self):\n",
    "    all_transitions = np.array(self.replay_buffer.buffer)\n",
    "    for j in range(self.num_epochs):\n",
    "        np.random.shuffle(all_transitions)\n",
    "        for i in range(len(all_transitions)//self.batch_size):\n",
    "            transitions = all_transitions[i*self.batch_size:(i+1)*self.batch_size]\n",
    "            batch = Transition(*zip(*transitions))\n",
    "\n",
    "            stack_s = np.vstack(batch.s).astype(np.float32)\n",
    "            stack_a = np.vstack(batch.a).astype(np.float32)\n",
    "            stack_lp = np.vstack(batch.logprob).astype(np.float32)\n",
    "            stack_td = np.vstack(batch.TD).astype(np.float32)\n",
    "            stack_gae = np.vstack(batch.GAE).astype(np.float32)\n",
    "            \n",
    "            a_dist,v = self.model(Tensor(stack_s))\n",
    "            '''Critic Loss'''\n",
    "            loss_critic = ((v-Tensor(stack_td)).pow(2)).mean() # diff btw TD and value\n",
    "            \n",
    "            '''Actor Loss'''\n",
    "            ratio = torch.exp(a_dist.log_prob(Tensor(stack_a))-Tensor(stack_lp))\n",
    "            stack_gae = (stack_gae-stack_gae.mean())/(stack_gae.std()+ 1E-5)\n",
    "            stack_gae = Tensor(stack_gae)\n",
    "            surrogate1 = ratio * stack_gae\n",
    "            surrogate2 = torch.clamp(ratio,min =1.0-self.clip_ratio,max=1.0+self.clip_ratio) * stack_gae\n",
    "            loss_actor = - torch.min(surrogate1,surrogate2).mean()\n",
    "            '''Entropy Loss'''\n",
    "            loss_entropy = - self.w_entropy * a_dist.entropy().mean()\n",
    "\n",
    "            self.loss_actor = loss_actor.cpu().detach().numpy().tolist()\n",
    "            self.loss_critic = loss_critic.cpu().detach().numpy().tolist()\n",
    "            \n",
    "            loss = loss_actor + loss_entropy + loss_critic\n",
    "\n",
    "            self.optimizer.zero_grad()\n",
    "            loss.backward(retain_graph=True)\n",
    "            for param in self.model.parameters():\n",
    "                if param.grad is not None:\n",
    "                    param.grad.data.clamp_(-0.5,0.5)\n",
    "            self.optimizer.step()\n",
    "        print('Optimizing sim nn : {}/{}'.format(j+1,self.num_epochs),end='\\r')\n",
    "    print('')\n",
    "```\n",
    "### self.OptimizeMuscleNN()\n",
    "\n",
    "```python\n",
    "def OptimizeMuscleNN(self):\n",
    "    for j in range(self.num_epochs_muscle):\n",
    "        minibatches = self.generate_shuffle_indices(self.muscle_buffer['JtA'].shape[0],self.muscle_batch_size)\n",
    "\n",
    "        for minibatch in minibatches:\n",
    "            stack_JtA = self.muscle_buffer['JtA'][minibatch].astype(np.float32)\n",
    "            stack_tau_des =  self.muscle_buffer['TauDes'][minibatch].astype(np.float32)\n",
    "            stack_L = self.muscle_buffer['L'][minibatch].astype(np.float32)\n",
    "            stack_L = stack_L.reshape(self.muscle_batch_size,self.num_action,self.num_muscles)\n",
    "            stack_b = self.muscle_buffer['b'][minibatch].astype(np.float32)\n",
    "\n",
    "            stack_JtA = Tensor(stack_JtA)\n",
    "            stack_tau_des = Tensor(stack_tau_des)\n",
    "            stack_L = Tensor(stack_L)\n",
    "            stack_b = Tensor(stack_b)\n",
    "\n",
    "            activation = self.muscle_model(stack_JtA,stack_tau_des)\n",
    "            tau = torch.einsum('ijk,ik->ij',(stack_L,activation)) + stack_b\n",
    "\n",
    "            loss_reg = (activation).pow(2).mean()\n",
    "            loss_target = (((tau-stack_tau_des)/100.0).pow(2)).mean()\n",
    "\n",
    "            loss = 0.01*loss_reg + loss_target\n",
    "            # loss = loss_target\n",
    "\n",
    "            self.optimizer_muscle.zero_grad()\n",
    "            loss.backward(retain_graph=True)\n",
    "            for param in self.muscle_model.parameters():\n",
    "                if param.grad is not None:\n",
    "                    param.grad.data.clamp_(-0.5,0.5)\n",
    "            self.optimizer_muscle.step()\n",
    "\n",
    "        print('Optimizing muscle nn : {}/{}'.format(j+1,self.num_epochs_muscle),end='\\r')\n",
    "    self.loss_muscle = loss.cpu().detach().numpy().tolist()\n",
    "    print('')\n",
    "```"
   ]
  },
  {
   "cell_type": "markdown",
   "metadata": {},
   "source": [
    "# SimulationNN\n",
    "```python\n",
    "num_h1 = 256\n",
    "num_h2 = 256\n",
    "\n",
    "self.p_fc1 = nn.Linear(num_states,num_h1)\n",
    "self.p_fc2 = nn.Linear(num_h1,num_h2)\n",
    "self.p_fc3 = nn.Linear(num_h2,num_actions)\n",
    "self.log_std = nn.Parameter(torch.zeros(num_actions))\n",
    "\n",
    "self.v_fc1 = nn.Linear(num_states,num_h1)\n",
    "self.v_fc2 = nn.Linear(num_h1,num_h2)\n",
    "self.v_fc3 = nn.Linear(num_h2,1)\n",
    "```\n",
    "\n",
    "```python\n",
    "def forward(self,x):\n",
    "    p_out = F.relu(self.p_fc1(x))\n",
    "    p_out = F.relu(self.p_fc2(p_out))\n",
    "    p_out = self.p_fc3(p_out)\n",
    "\n",
    "    p_out = MultiVariateNormal(p_out,self.log_std.exp())\n",
    "\n",
    "    v_out = F.relu(self.v_fc1(x))\n",
    "    v_out = F.relu(self.v_fc2(v_out))\n",
    "    v_out = self.v_fc3(v_out)\n",
    "    return p_out,v_out\n",
    "```"
   ]
  },
  {
   "cell_type": "markdown",
   "metadata": {},
   "source": [
    "# MuscleNN\n",
    "```python\n",
    "num_h1 = 1024\n",
    "num_h2 = 512\n",
    "num_h3 = 512\n",
    "self.fc = nn.Sequential(\n",
    "    nn.Linear(num_total_muscle_related_dofs+num_dofs,num_h1),\n",
    "    nn.LeakyReLU(0.2, inplace=True),\n",
    "    nn.Linear(num_h1,num_h2),\n",
    "    nn.LeakyReLU(0.2, inplace=True),\n",
    "    nn.Linear(num_h2,num_h3),\n",
    "    nn.LeakyReLU(0.2, inplace=True),\n",
    "    nn.Linear(num_h3,num_muscles),\n",
    "    nn.Tanh(),\n",
    "    nn.ReLU()\t\t\n",
    ")\n",
    "```\n",
    "\n",
    "```python\n",
    "def forward(self,muscle_tau,tau):\n",
    "    muscle_tau = muscle_tau/self.std_muscle_tau\n",
    "\n",
    "    tau = tau/self.std_tau\n",
    "    out = self.fc.forward(torch.cat([muscle_tau,tau],dim=1))\n",
    "    return out\t\t\n",
    "```"
   ]
  },
  {
   "cell_type": "markdown",
   "metadata": {},
   "source": []
  },
  {
   "cell_type": "code",
   "execution_count": null,
   "metadata": {},
   "outputs": [
    {
     "ename": "",
     "evalue": "",
     "output_type": "error",
     "traceback": [
      "\u001b[1;31mRunning cells with '.venv (Python 3.9.12)' requires the ipykernel package.\n",
      "\u001b[1;31mRun the following command to install 'ipykernel' into the Python environment. \n",
      "\u001b[1;31mCommand: 'd:/northeastern/neu_dev/MASS_for_review/.venv/Scripts/python.exe -m pip install ipykernel -U --force-reinstall'"
     ]
    }
   ],
   "source": []
  },
  {
   "cell_type": "code",
   "execution_count": null,
   "metadata": {},
   "outputs": [
    {
     "ename": "",
     "evalue": "",
     "output_type": "error",
     "traceback": [
      "\u001b[1;31mRunning cells with '.venv (Python 3.9.12)' requires the ipykernel package.\n",
      "\u001b[1;31mRun the following command to install 'ipykernel' into the Python environment. \n",
      "\u001b[1;31mCommand: 'd:/northeastern/neu_dev/MASS_for_review/.venv/Scripts/python.exe -m pip install ipykernel -U --force-reinstall'"
     ]
    }
   ],
   "source": []
  },
  {
   "cell_type": "code",
   "execution_count": null,
   "metadata": {},
   "outputs": [
    {
     "ename": "",
     "evalue": "",
     "output_type": "error",
     "traceback": [
      "\u001b[1;31mRunning cells with '.venv (Python 3.9.12)' requires the ipykernel package.\n",
      "\u001b[1;31mRun the following command to install 'ipykernel' into the Python environment. \n",
      "\u001b[1;31mCommand: 'd:/northeastern/neu_dev/MASS_for_review/.venv/Scripts/python.exe -m pip install ipykernel -U --force-reinstall'"
     ]
    }
   ],
   "source": []
  },
  {
   "cell_type": "code",
   "execution_count": null,
   "metadata": {},
   "outputs": [],
   "source": []
  }
 ],
 "metadata": {
  "kernelspec": {
   "display_name": ".venv",
   "language": "python",
   "name": "python3"
  },
  "language_info": {
   "name": "python",
   "version": "3.9.12"
  }
 },
 "nbformat": 4,
 "nbformat_minor": 2
}
